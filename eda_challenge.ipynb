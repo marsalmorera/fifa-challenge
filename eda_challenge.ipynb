{
 "cells": [
  {
   "attachments": {
    "535f544d-433f-48fc-967a-14fec00ddb50.png": {
     "image/png": "[encoded data removed]"
    }
   },
   "cell_type": "markdown",
   "id": "dccadf02-f3b1-4f3a-bbde-009f94531526",
   "metadata": {},
   "source": [
    "![download.png](attachment:535f544d-433f-48fc-967a-14fec00ddb50.png)"
   ]
  },
  {
   "cell_type": "markdown",
   "id": "65092321",
   "metadata": {},
   "source": [
    "<h1 style=\"color: #9370DB;\">Exploratory Data Analysis Test</h1>"
   ]
  },
  {
   "cell_type": "markdown",
   "id": "236c8bc8-9dfa-4e76-bfd0-5a67238a55c4",
   "metadata": {},
   "source": [
    "Exploratory data analysis (EDA) is amongst the first steps of analyzing data. \n",
    "* It is usually done with descriptive statistics, where you'll summarize the statistical aspects of your dataset and start to unravel your insights. \n",
    "* Further on, I highly recommend using data visualization in this step."
   ]
  },
  {
   "cell_type": "markdown",
   "id": "3ed704d7-7132-46fd-ba1e-459e100540b1",
   "metadata": {},
   "source": [
    "<div class=\"alert alert-block alert-info\">\n",
    "Tip # 1\n",
    "Best practices; write all your libraries & functions at the beginning !\n",
    "</div>"
   ]
  },
  {
   "cell_type": "code",
   "execution_count": 1,
   "id": "e682116d-4203-4773-8b7c-8c4527ab3411",
   "metadata": {},
   "outputs": [],
   "source": [
    "# 📚 Basic libraries\n",
    "import pandas as pd\n",
    "import numpy as np \n",
    "import matplotlib.pyplot as plt\n",
    "import seaborn as sns"
   ]
  },
  {
   "cell_type": "code",
   "execution_count": 2,
   "id": "f9fd6dfc-8f4c-4a77-b34f-abb3d96906c0",
   "metadata": {},
   "outputs": [],
   "source": [
    "# ⚙️ Settings\n",
    "pd.set_option('display.max_columns', None) # display all columns\n",
    "import warnings\n",
    "warnings.filterwarnings('ignore') # ignore warnings"
   ]
  },
  {
   "cell_type": "markdown",
   "id": "0114e245-9195-45ae-867a-7f3e0f08fe35",
   "metadata": {
    "tags": []
   },
   "source": [
    "<h2 style=\"color: #9370DB;\"> 01 | Data Extraction </h2>"
   ]
  },
  {
   "cell_type": "code",
   "execution_count": 3,
   "id": "4b4e3929-a589-474e-bcdc-55e45d0c7c73",
   "metadata": {},
   "outputs": [],
   "source": [
    "data = pd.read_csv('fifa_23.csv')"
   ]
  },
  {
   "cell_type": "markdown",
   "id": "6ccd0e85-7c73-4e84-a2d8-f21a62d6c5e3",
   "metadata": {
    "tags": []
   },
   "source": [
    "<h3 style=\"color: #4169E1;\">1.1 | Exploring the Data </h3>"
   ]
  },
  {
   "cell_type": "code",
   "execution_count": 4,
   "id": "312d4d11",
   "metadata": {
    "scrolled": true
   },
   "outputs": [
    {
     "data": {
      "text/html": [
       "<div>\n",
       "<style scoped>\n",
       "    .dataframe tbody tr th:only-of-type {\n",
       "        vertical-align: middle;\n",
       "    }\n",
       "\n",
       "    .dataframe tbody tr th {\n",
       "        vertical-align: top;\n",
       "    }\n",
       "\n",
       "    .dataframe thead th {\n",
       "        text-align: right;\n",
       "    }\n",
       "</style>\n",
       "<table border=\"1\" class=\"dataframe\">\n",
       "  <thead>\n",
       "    <tr style=\"text-align: right;\">\n",
       "      <th></th>\n",
       "      <th>Known As</th>\n",
       "      <th>Full Name</th>\n",
       "      <th>Overall</th>\n",
       "      <th>Potential</th>\n",
       "      <th>Value(in Euro)</th>\n",
       "      <th>Positions Played</th>\n",
       "      <th>Best Position</th>\n",
       "      <th>Nationality</th>\n",
       "      <th>Image Link</th>\n",
       "      <th>Age</th>\n",
       "      <th>Height(in cm)</th>\n",
       "      <th>Weight(in kg)</th>\n",
       "      <th>TotalStats</th>\n",
       "      <th>BaseStats</th>\n",
       "      <th>Club Name</th>\n",
       "      <th>Wage(in Euro)</th>\n",
       "      <th>Release Clause</th>\n",
       "      <th>Club Position</th>\n",
       "      <th>Contract Until</th>\n",
       "      <th>Club Jersey Number</th>\n",
       "      <th>Joined On</th>\n",
       "      <th>On Loan</th>\n",
       "      <th>Preferred Foot</th>\n",
       "      <th>Weak Foot Rating</th>\n",
       "      <th>Skill Moves</th>\n",
       "      <th>International Reputation</th>\n",
       "      <th>National Team Name</th>\n",
       "      <th>National Team Image Link</th>\n",
       "      <th>National Team Position</th>\n",
       "      <th>National Team Jersey Number</th>\n",
       "      <th>Attacking Work Rate</th>\n",
       "      <th>Defensive Work Rate</th>\n",
       "      <th>Pace Total</th>\n",
       "      <th>Shooting Total</th>\n",
       "      <th>Passing Total</th>\n",
       "      <th>Dribbling Total</th>\n",
       "      <th>Defending Total</th>\n",
       "      <th>Physicality Total</th>\n",
       "      <th>Crossing</th>\n",
       "      <th>Finishing</th>\n",
       "      <th>Heading Accuracy</th>\n",
       "      <th>Short Passing</th>\n",
       "      <th>Volleys</th>\n",
       "      <th>Dribbling</th>\n",
       "      <th>Curve</th>\n",
       "      <th>Freekick Accuracy</th>\n",
       "      <th>LongPassing</th>\n",
       "      <th>BallControl</th>\n",
       "      <th>Acceleration</th>\n",
       "      <th>Sprint Speed</th>\n",
       "      <th>Agility</th>\n",
       "      <th>Reactions</th>\n",
       "      <th>Balance</th>\n",
       "      <th>Shot Power</th>\n",
       "      <th>Jumping</th>\n",
       "      <th>Stamina</th>\n",
       "      <th>Strength</th>\n",
       "      <th>Long Shots</th>\n",
       "      <th>Aggression</th>\n",
       "      <th>Interceptions</th>\n",
       "      <th>Positioning</th>\n",
       "      <th>Vision</th>\n",
       "      <th>Penalties</th>\n",
       "      <th>Composure</th>\n",
       "      <th>Marking</th>\n",
       "      <th>Standing Tackle</th>\n",
       "      <th>Sliding Tackle</th>\n",
       "      <th>Goalkeeper Diving</th>\n",
       "      <th>Goalkeeper Handling</th>\n",
       "      <th>GoalkeeperKicking</th>\n",
       "      <th>Goalkeeper Positioning</th>\n",
       "      <th>Goalkeeper Reflexes</th>\n",
       "      <th>ST Rating</th>\n",
       "      <th>LW Rating</th>\n",
       "      <th>LF Rating</th>\n",
       "      <th>CF Rating</th>\n",
       "      <th>RF Rating</th>\n",
       "      <th>RW Rating</th>\n",
       "      <th>CAM Rating</th>\n",
       "      <th>LM Rating</th>\n",
       "      <th>CM Rating</th>\n",
       "      <th>RM Rating</th>\n",
       "      <th>LWB Rating</th>\n",
       "      <th>CDM Rating</th>\n",
       "      <th>RWB Rating</th>\n",
       "      <th>LB Rating</th>\n",
       "      <th>CB Rating</th>\n",
       "      <th>RB Rating</th>\n",
       "      <th>GK Rating</th>\n",
       "    </tr>\n",
       "  </thead>\n",
       "  <tbody>\n",
       "    <tr>\n",
       "      <th>8602</th>\n",
       "      <td>E. Jordanov</td>\n",
       "      <td>Edisson Jordanov</td>\n",
       "      <td>66</td>\n",
       "      <td>66</td>\n",
       "      <td>750000</td>\n",
       "      <td>RB,RM,LB</td>\n",
       "      <td>RB</td>\n",
       "      <td>Bulgaria</td>\n",
       "      <td>https://cdn.sofifa.net/players/208/140/23_60.png</td>\n",
       "      <td>29</td>\n",
       "      <td>172</td>\n",
       "      <td>70</td>\n",
       "      <td>1810</td>\n",
       "      <td>374</td>\n",
       "      <td>KVC Westerlo</td>\n",
       "      <td>4000</td>\n",
       "      <td>1100000</td>\n",
       "      <td>SUB</td>\n",
       "      <td>2023</td>\n",
       "      <td>32</td>\n",
       "      <td>2021</td>\n",
       "      <td>-</td>\n",
       "      <td>Right</td>\n",
       "      <td>3</td>\n",
       "      <td>3</td>\n",
       "      <td>1</td>\n",
       "      <td>-</td>\n",
       "      <td>-</td>\n",
       "      <td>-</td>\n",
       "      <td>-</td>\n",
       "      <td>Medium</td>\n",
       "      <td>Medium</td>\n",
       "      <td>72</td>\n",
       "      <td>53</td>\n",
       "      <td>61</td>\n",
       "      <td>70</td>\n",
       "      <td>61</td>\n",
       "      <td>57</td>\n",
       "      <td>59</td>\n",
       "      <td>49</td>\n",
       "      <td>46</td>\n",
       "      <td>66</td>\n",
       "      <td>58</td>\n",
       "      <td>68</td>\n",
       "      <td>61</td>\n",
       "      <td>47</td>\n",
       "      <td>55</td>\n",
       "      <td>68</td>\n",
       "      <td>77</td>\n",
       "      <td>68</td>\n",
       "      <td>83</td>\n",
       "      <td>67</td>\n",
       "      <td>83</td>\n",
       "      <td>56</td>\n",
       "      <td>80</td>\n",
       "      <td>69</td>\n",
       "      <td>45</td>\n",
       "      <td>55</td>\n",
       "      <td>67</td>\n",
       "      <td>67</td>\n",
       "      <td>58</td>\n",
       "      <td>63</td>\n",
       "      <td>53</td>\n",
       "      <td>71</td>\n",
       "      <td>63</td>\n",
       "      <td>61</td>\n",
       "      <td>58</td>\n",
       "      <td>15</td>\n",
       "      <td>8</td>\n",
       "      <td>13</td>\n",
       "      <td>12</td>\n",
       "      <td>12</td>\n",
       "      <td>60</td>\n",
       "      <td>64</td>\n",
       "      <td>63</td>\n",
       "      <td>63</td>\n",
       "      <td>63</td>\n",
       "      <td>64</td>\n",
       "      <td>66</td>\n",
       "      <td>66</td>\n",
       "      <td>65</td>\n",
       "      <td>66</td>\n",
       "      <td>66</td>\n",
       "      <td>65</td>\n",
       "      <td>66</td>\n",
       "      <td>66</td>\n",
       "      <td>63</td>\n",
       "      <td>66</td>\n",
       "      <td>20</td>\n",
       "    </tr>\n",
       "    <tr>\n",
       "      <th>17161</th>\n",
       "      <td>K. Ferguson</td>\n",
       "      <td>Kyle Ferguson</td>\n",
       "      <td>56</td>\n",
       "      <td>64</td>\n",
       "      <td>300000</td>\n",
       "      <td>CB</td>\n",
       "      <td>CB</td>\n",
       "      <td>Scotland</td>\n",
       "      <td>https://cdn.sofifa.net/players/261/239/23_60.png</td>\n",
       "      <td>22</td>\n",
       "      <td>195</td>\n",
       "      <td>80</td>\n",
       "      <td>1296</td>\n",
       "      <td>290</td>\n",
       "      <td>Harrogate Town</td>\n",
       "      <td>1000</td>\n",
       "      <td>585000</td>\n",
       "      <td>RES</td>\n",
       "      <td>2023</td>\n",
       "      <td>24</td>\n",
       "      <td>2022</td>\n",
       "      <td>-</td>\n",
       "      <td>Right</td>\n",
       "      <td>2</td>\n",
       "      <td>2</td>\n",
       "      <td>1</td>\n",
       "      <td>-</td>\n",
       "      <td>https://cdn.sofifa.net/flags/gb-sct.png</td>\n",
       "      <td>-</td>\n",
       "      <td>-</td>\n",
       "      <td>Medium</td>\n",
       "      <td>High</td>\n",
       "      <td>53</td>\n",
       "      <td>29</td>\n",
       "      <td>40</td>\n",
       "      <td>46</td>\n",
       "      <td>54</td>\n",
       "      <td>68</td>\n",
       "      <td>31</td>\n",
       "      <td>28</td>\n",
       "      <td>55</td>\n",
       "      <td>52</td>\n",
       "      <td>29</td>\n",
       "      <td>48</td>\n",
       "      <td>31</td>\n",
       "      <td>26</td>\n",
       "      <td>43</td>\n",
       "      <td>47</td>\n",
       "      <td>55</td>\n",
       "      <td>51</td>\n",
       "      <td>34</td>\n",
       "      <td>47</td>\n",
       "      <td>44</td>\n",
       "      <td>37</td>\n",
       "      <td>64</td>\n",
       "      <td>59</td>\n",
       "      <td>75</td>\n",
       "      <td>24</td>\n",
       "      <td>63</td>\n",
       "      <td>49</td>\n",
       "      <td>26</td>\n",
       "      <td>32</td>\n",
       "      <td>33</td>\n",
       "      <td>45</td>\n",
       "      <td>54</td>\n",
       "      <td>58</td>\n",
       "      <td>54</td>\n",
       "      <td>6</td>\n",
       "      <td>13</td>\n",
       "      <td>9</td>\n",
       "      <td>10</td>\n",
       "      <td>9</td>\n",
       "      <td>44</td>\n",
       "      <td>41</td>\n",
       "      <td>41</td>\n",
       "      <td>41</td>\n",
       "      <td>41</td>\n",
       "      <td>41</td>\n",
       "      <td>43</td>\n",
       "      <td>45</td>\n",
       "      <td>46</td>\n",
       "      <td>45</td>\n",
       "      <td>52</td>\n",
       "      <td>54</td>\n",
       "      <td>52</td>\n",
       "      <td>53</td>\n",
       "      <td>58</td>\n",
       "      <td>53</td>\n",
       "      <td>16</td>\n",
       "    </tr>\n",
       "    <tr>\n",
       "      <th>603</th>\n",
       "      <td>Diogo Costa</td>\n",
       "      <td>Diogo Meireles Costa</td>\n",
       "      <td>79</td>\n",
       "      <td>86</td>\n",
       "      <td>30500000</td>\n",
       "      <td>GK</td>\n",
       "      <td>GK</td>\n",
       "      <td>Portugal</td>\n",
       "      <td>https://cdn.sofifa.net/players/234/577/23_60.png</td>\n",
       "      <td>22</td>\n",
       "      <td>188</td>\n",
       "      <td>84</td>\n",
       "      <td>1123</td>\n",
       "      <td>417</td>\n",
       "      <td>FC Porto</td>\n",
       "      <td>11000</td>\n",
       "      <td>67099999</td>\n",
       "      <td>GK</td>\n",
       "      <td>2026</td>\n",
       "      <td>99</td>\n",
       "      <td>2016</td>\n",
       "      <td>-</td>\n",
       "      <td>Right</td>\n",
       "      <td>2</td>\n",
       "      <td>1</td>\n",
       "      <td>1</td>\n",
       "      <td>Portugal</td>\n",
       "      <td>https://cdn.sofifa.net/flags/pt.png</td>\n",
       "      <td>SUB</td>\n",
       "      <td>22</td>\n",
       "      <td>Medium</td>\n",
       "      <td>Medium</td>\n",
       "      <td>76</td>\n",
       "      <td>75</td>\n",
       "      <td>73</td>\n",
       "      <td>83</td>\n",
       "      <td>32</td>\n",
       "      <td>78</td>\n",
       "      <td>13</td>\n",
       "      <td>6</td>\n",
       "      <td>11</td>\n",
       "      <td>28</td>\n",
       "      <td>8</td>\n",
       "      <td>18</td>\n",
       "      <td>10</td>\n",
       "      <td>10</td>\n",
       "      <td>29</td>\n",
       "      <td>25</td>\n",
       "      <td>30</td>\n",
       "      <td>36</td>\n",
       "      <td>34</td>\n",
       "      <td>77</td>\n",
       "      <td>35</td>\n",
       "      <td>55</td>\n",
       "      <td>53</td>\n",
       "      <td>23</td>\n",
       "      <td>63</td>\n",
       "      <td>9</td>\n",
       "      <td>23</td>\n",
       "      <td>18</td>\n",
       "      <td>18</td>\n",
       "      <td>49</td>\n",
       "      <td>14</td>\n",
       "      <td>44</td>\n",
       "      <td>19</td>\n",
       "      <td>13</td>\n",
       "      <td>11</td>\n",
       "      <td>76</td>\n",
       "      <td>75</td>\n",
       "      <td>73</td>\n",
       "      <td>78</td>\n",
       "      <td>83</td>\n",
       "      <td>30</td>\n",
       "      <td>26</td>\n",
       "      <td>29</td>\n",
       "      <td>29</td>\n",
       "      <td>29</td>\n",
       "      <td>26</td>\n",
       "      <td>32</td>\n",
       "      <td>30</td>\n",
       "      <td>32</td>\n",
       "      <td>30</td>\n",
       "      <td>27</td>\n",
       "      <td>30</td>\n",
       "      <td>27</td>\n",
       "      <td>26</td>\n",
       "      <td>28</td>\n",
       "      <td>26</td>\n",
       "      <td>80</td>\n",
       "    </tr>\n",
       "    <tr>\n",
       "      <th>1813</th>\n",
       "      <td>J. El Yamiq</td>\n",
       "      <td>Jawad El Yamiq</td>\n",
       "      <td>75</td>\n",
       "      <td>75</td>\n",
       "      <td>4600000</td>\n",
       "      <td>CB</td>\n",
       "      <td>CB</td>\n",
       "      <td>Morocco</td>\n",
       "      <td>https://cdn.sofifa.net/players/241/775/23_60.png</td>\n",
       "      <td>30</td>\n",
       "      <td>193</td>\n",
       "      <td>80</td>\n",
       "      <td>1808</td>\n",
       "      <td>402</td>\n",
       "      <td>Real Valladolid CF</td>\n",
       "      <td>20000</td>\n",
       "      <td>9700000</td>\n",
       "      <td>SUB</td>\n",
       "      <td>2024</td>\n",
       "      <td>15</td>\n",
       "      <td>2020</td>\n",
       "      <td>-</td>\n",
       "      <td>Right</td>\n",
       "      <td>3</td>\n",
       "      <td>2</td>\n",
       "      <td>1</td>\n",
       "      <td>Morocco</td>\n",
       "      <td>https://cdn.sofifa.net/flags/ma.png</td>\n",
       "      <td>SUB</td>\n",
       "      <td>20</td>\n",
       "      <td>Medium</td>\n",
       "      <td>Medium</td>\n",
       "      <td>86</td>\n",
       "      <td>48</td>\n",
       "      <td>52</td>\n",
       "      <td>62</td>\n",
       "      <td>74</td>\n",
       "      <td>80</td>\n",
       "      <td>38</td>\n",
       "      <td>40</td>\n",
       "      <td>76</td>\n",
       "      <td>65</td>\n",
       "      <td>30</td>\n",
       "      <td>60</td>\n",
       "      <td>36</td>\n",
       "      <td>32</td>\n",
       "      <td>71</td>\n",
       "      <td>61</td>\n",
       "      <td>84</td>\n",
       "      <td>87</td>\n",
       "      <td>69</td>\n",
       "      <td>73</td>\n",
       "      <td>56</td>\n",
       "      <td>67</td>\n",
       "      <td>90</td>\n",
       "      <td>75</td>\n",
       "      <td>84</td>\n",
       "      <td>52</td>\n",
       "      <td>74</td>\n",
       "      <td>77</td>\n",
       "      <td>60</td>\n",
       "      <td>37</td>\n",
       "      <td>41</td>\n",
       "      <td>68</td>\n",
       "      <td>73</td>\n",
       "      <td>75</td>\n",
       "      <td>70</td>\n",
       "      <td>15</td>\n",
       "      <td>12</td>\n",
       "      <td>10</td>\n",
       "      <td>10</td>\n",
       "      <td>8</td>\n",
       "      <td>65</td>\n",
       "      <td>59</td>\n",
       "      <td>61</td>\n",
       "      <td>61</td>\n",
       "      <td>61</td>\n",
       "      <td>59</td>\n",
       "      <td>61</td>\n",
       "      <td>63</td>\n",
       "      <td>64</td>\n",
       "      <td>63</td>\n",
       "      <td>70</td>\n",
       "      <td>72</td>\n",
       "      <td>70</td>\n",
       "      <td>73</td>\n",
       "      <td>75</td>\n",
       "      <td>73</td>\n",
       "      <td>20</td>\n",
       "    </tr>\n",
       "    <tr>\n",
       "      <th>12525</th>\n",
       "      <td>Kim Ji Hyun</td>\n",
       "      <td>Ji Hyun Kim</td>\n",
       "      <td>63</td>\n",
       "      <td>65</td>\n",
       "      <td>600000</td>\n",
       "      <td>ST,RW,LW</td>\n",
       "      <td>ST</td>\n",
       "      <td>Korea Republic</td>\n",
       "      <td>https://cdn.sofifa.net/players/245/400/23_60.png</td>\n",
       "      <td>25</td>\n",
       "      <td>184</td>\n",
       "      <td>80</td>\n",
       "      <td>1577</td>\n",
       "      <td>343</td>\n",
       "      <td>Sangju Sangmu FC</td>\n",
       "      <td>3000</td>\n",
       "      <td>0</td>\n",
       "      <td>ST</td>\n",
       "      <td>2023</td>\n",
       "      <td>28</td>\n",
       "      <td>2021</td>\n",
       "      <td>TRUE</td>\n",
       "      <td>Right</td>\n",
       "      <td>4</td>\n",
       "      <td>3</td>\n",
       "      <td>1</td>\n",
       "      <td>-</td>\n",
       "      <td>-</td>\n",
       "      <td>-</td>\n",
       "      <td>-</td>\n",
       "      <td>Medium</td>\n",
       "      <td>Low</td>\n",
       "      <td>73</td>\n",
       "      <td>56</td>\n",
       "      <td>55</td>\n",
       "      <td>65</td>\n",
       "      <td>29</td>\n",
       "      <td>65</td>\n",
       "      <td>55</td>\n",
       "      <td>55</td>\n",
       "      <td>56</td>\n",
       "      <td>59</td>\n",
       "      <td>51</td>\n",
       "      <td>62</td>\n",
       "      <td>50</td>\n",
       "      <td>38</td>\n",
       "      <td>55</td>\n",
       "      <td>68</td>\n",
       "      <td>72</td>\n",
       "      <td>74</td>\n",
       "      <td>76</td>\n",
       "      <td>65</td>\n",
       "      <td>58</td>\n",
       "      <td>66</td>\n",
       "      <td>50</td>\n",
       "      <td>78</td>\n",
       "      <td>70</td>\n",
       "      <td>49</td>\n",
       "      <td>42</td>\n",
       "      <td>22</td>\n",
       "      <td>68</td>\n",
       "      <td>53</td>\n",
       "      <td>55</td>\n",
       "      <td>59</td>\n",
       "      <td>28</td>\n",
       "      <td>28</td>\n",
       "      <td>26</td>\n",
       "      <td>14</td>\n",
       "      <td>11</td>\n",
       "      <td>9</td>\n",
       "      <td>8</td>\n",
       "      <td>6</td>\n",
       "      <td>65</td>\n",
       "      <td>63</td>\n",
       "      <td>63</td>\n",
       "      <td>63</td>\n",
       "      <td>63</td>\n",
       "      <td>63</td>\n",
       "      <td>64</td>\n",
       "      <td>65</td>\n",
       "      <td>59</td>\n",
       "      <td>65</td>\n",
       "      <td>52</td>\n",
       "      <td>49</td>\n",
       "      <td>52</td>\n",
       "      <td>50</td>\n",
       "      <td>44</td>\n",
       "      <td>50</td>\n",
       "      <td>18</td>\n",
       "    </tr>\n",
       "  </tbody>\n",
       "</table>\n",
       "</div>"
      ],
      "text/plain": [
       "          Known As             Full Name  Overall  Potential  Value(in Euro)  \\\n",
       "8602   E. Jordanov      Edisson Jordanov       66         66          750000   \n",
       "17161  K. Ferguson         Kyle Ferguson       56         64          300000   \n",
       "603    Diogo Costa  Diogo Meireles Costa       79         86        30500000   \n",
       "1813   J. El Yamiq        Jawad El Yamiq       75         75         4600000   \n",
       "12525  Kim Ji Hyun           Ji Hyun Kim       63         65          600000   \n",
       "\n",
       "      Positions Played Best Position     Nationality  \\\n",
       "8602          RB,RM,LB            RB        Bulgaria   \n",
       "17161               CB            CB        Scotland   \n",
       "603                 GK            GK        Portugal   \n",
       "1813                CB            CB         Morocco   \n",
       "12525         ST,RW,LW            ST  Korea Republic   \n",
       "\n",
       "                                             Image Link  Age  Height(in cm)  \\\n",
       "8602   https://cdn.sofifa.net/players/208/140/23_60.png   29            172   \n",
       "17161  https://cdn.sofifa.net/players/261/239/23_60.png   22            195   \n",
       "603    https://cdn.sofifa.net/players/234/577/23_60.png   22            188   \n",
       "1813   https://cdn.sofifa.net/players/241/775/23_60.png   30            193   \n",
       "12525  https://cdn.sofifa.net/players/245/400/23_60.png   25            184   \n",
       "\n",
       "       Weight(in kg)  TotalStats  BaseStats           Club Name  \\\n",
       "8602              70        1810        374        KVC Westerlo   \n",
       "17161             80        1296        290      Harrogate Town   \n",
       "603               84        1123        417            FC Porto   \n",
       "1813              80        1808        402  Real Valladolid CF   \n",
       "12525             80        1577        343    Sangju Sangmu FC   \n",
       "\n",
       "       Wage(in Euro)  Release Clause Club Position Contract Until  \\\n",
       "8602            4000         1100000           SUB           2023   \n",
       "17161           1000          585000           RES           2023   \n",
       "603            11000        67099999            GK           2026   \n",
       "1813           20000         9700000           SUB           2024   \n",
       "12525           3000               0            ST           2023   \n",
       "\n",
       "      Club Jersey Number  Joined On On Loan Preferred Foot  Weak Foot Rating  \\\n",
       "8602                  32       2021       -          Right                 3   \n",
       "17161                 24       2022       -          Right                 2   \n",
       "603                   99       2016       -          Right                 2   \n",
       "1813                  15       2020       -          Right                 3   \n",
       "12525                 28       2021    TRUE          Right                 4   \n",
       "\n",
       "       Skill Moves  International Reputation National Team Name  \\\n",
       "8602             3                         1                  -   \n",
       "17161            2                         1                  -   \n",
       "603              1                         1           Portugal   \n",
       "1813             2                         1            Morocco   \n",
       "12525            3                         1                  -   \n",
       "\n",
       "                      National Team Image Link National Team Position  \\\n",
       "8602                                         -                      -   \n",
       "17161  https://cdn.sofifa.net/flags/gb-sct.png                      -   \n",
       "603        https://cdn.sofifa.net/flags/pt.png                    SUB   \n",
       "1813       https://cdn.sofifa.net/flags/ma.png                    SUB   \n",
       "12525                                        -                      -   \n",
       "\n",
       "      National Team Jersey Number Attacking Work Rate Defensive Work Rate  \\\n",
       "8602                            -              Medium              Medium   \n",
       "17161                           -              Medium                High   \n",
       "603                            22              Medium              Medium   \n",
       "1813                           20              Medium              Medium   \n",
       "12525                           -              Medium                 Low   \n",
       "\n",
       "       Pace Total  Shooting Total  Passing Total  Dribbling Total  \\\n",
       "8602           72              53             61               70   \n",
       "17161          53              29             40               46   \n",
       "603            76              75             73               83   \n",
       "1813           86              48             52               62   \n",
       "12525          73              56             55               65   \n",
       "\n",
       "       Defending Total  Physicality Total  Crossing  Finishing  \\\n",
       "8602                61                 57        59         49   \n",
       "17161               54                 68        31         28   \n",
       "603                 32                 78        13          6   \n",
       "1813                74                 80        38         40   \n",
       "12525               29                 65        55         55   \n",
       "\n",
       "       Heading Accuracy  Short Passing  Volleys  Dribbling  Curve  \\\n",
       "8602                 46             66       58         68     61   \n",
       "17161                55             52       29         48     31   \n",
       "603                  11             28        8         18     10   \n",
       "1813                 76             65       30         60     36   \n",
       "12525                56             59       51         62     50   \n",
       "\n",
       "       Freekick Accuracy  LongPassing  BallControl  Acceleration  \\\n",
       "8602                  47           55           68            77   \n",
       "17161                 26           43           47            55   \n",
       "603                   10           29           25            30   \n",
       "1813                  32           71           61            84   \n",
       "12525                 38           55           68            72   \n",
       "\n",
       "       Sprint Speed  Agility  Reactions  Balance  Shot Power  Jumping  \\\n",
       "8602             68       83         67       83          56       80   \n",
       "17161            51       34         47       44          37       64   \n",
       "603              36       34         77       35          55       53   \n",
       "1813             87       69         73       56          67       90   \n",
       "12525            74       76         65       58          66       50   \n",
       "\n",
       "       Stamina  Strength  Long Shots  Aggression  Interceptions  Positioning  \\\n",
       "8602        69        45          55          67             67           58   \n",
       "17161       59        75          24          63             49           26   \n",
       "603         23        63           9          23             18           18   \n",
       "1813        75        84          52          74             77           60   \n",
       "12525       78        70          49          42             22           68   \n",
       "\n",
       "       Vision  Penalties  Composure  Marking  Standing Tackle  Sliding Tackle  \\\n",
       "8602       63         53         71       63               61              58   \n",
       "17161      32         33         45       54               58              54   \n",
       "603        49         14         44       19               13              11   \n",
       "1813       37         41         68       73               75              70   \n",
       "12525      53         55         59       28               28              26   \n",
       "\n",
       "       Goalkeeper Diving  Goalkeeper Handling   GoalkeeperKicking  \\\n",
       "8602                  15                    8                  13   \n",
       "17161                  6                   13                   9   \n",
       "603                   76                   75                  73   \n",
       "1813                  15                   12                  10   \n",
       "12525                 14                   11                   9   \n",
       "\n",
       "       Goalkeeper Positioning  Goalkeeper Reflexes  ST Rating  LW Rating  \\\n",
       "8602                       12                   12         60         64   \n",
       "17161                      10                    9         44         41   \n",
       "603                        78                   83         30         26   \n",
       "1813                       10                    8         65         59   \n",
       "12525                       8                    6         65         63   \n",
       "\n",
       "       LF Rating  CF Rating  RF Rating  RW Rating  CAM Rating  LM Rating  \\\n",
       "8602          63         63         63         64          66         66   \n",
       "17161         41         41         41         41          43         45   \n",
       "603           29         29         29         26          32         30   \n",
       "1813          61         61         61         59          61         63   \n",
       "12525         63         63         63         63          64         65   \n",
       "\n",
       "       CM Rating  RM Rating  LWB Rating  CDM Rating  RWB Rating  LB Rating  \\\n",
       "8602          65         66          66          65          66         66   \n",
       "17161         46         45          52          54          52         53   \n",
       "603           32         30          27          30          27         26   \n",
       "1813          64         63          70          72          70         73   \n",
       "12525         59         65          52          49          52         50   \n",
       "\n",
       "       CB Rating  RB Rating  GK Rating  \n",
       "8602          63         66         20  \n",
       "17161         58         53         16  \n",
       "603           28         26         80  \n",
       "1813          75         73         20  \n",
       "12525         44         50         18  "
      ]
     },
     "execution_count": 4,
     "metadata": {},
     "output_type": "execute_result"
    }
   ],
   "source": [
    "data.sample(5)"
   ]
  },
  {
   "cell_type": "code",
   "execution_count": 5,
   "id": "f044b388-05c0-416a-896e-846fbcca1dc7",
   "metadata": {},
   "outputs": [
    {
     "data": {
      "text/plain": [
       "(18539, 89)"
      ]
     },
     "execution_count": 5,
     "metadata": {},
     "output_type": "execute_result"
    }
   ],
   "source": [
    "data.shape"
   ]
  },
  {
   "cell_type": "code",
   "execution_count": 6,
   "id": "895e1509",
   "metadata": {},
   "outputs": [
    {
     "data": {
      "text/plain": [
       "Known As          object\n",
       "Full Name         object\n",
       "Overall            int64\n",
       "Potential          int64\n",
       "Value(in Euro)     int64\n",
       "                   ...  \n",
       "RWB Rating         int64\n",
       "LB Rating          int64\n",
       "CB Rating          int64\n",
       "RB Rating          int64\n",
       "GK Rating          int64\n",
       "Length: 89, dtype: object"
      ]
     },
     "execution_count": 6,
     "metadata": {},
     "output_type": "execute_result"
    }
   ],
   "source": [
    "data.dtypes"
   ]
  },
  {
   "cell_type": "markdown",
   "id": "a1ca18f8-9e09-4507-a3c4-da4649eb45b1",
   "metadata": {},
   "source": [
    "**First impression:**\n",
    "    \n",
    "_____________\n",
    "\n",
    "The following dataset is a collection of **one-year** 18.539 player information distributed among 89 different columns. The majority of our data types are mostly **numericals** (71 integers / 18 objects).\n",
    "\n",
    "Our **project goal** is to identify players who have the potential to become **the next \"Mbappé\"**. After reading the [documentation](https://www.kaggle.com/datasets/ekrembayar/fifa-21-complete-player-dataset?select=fifa21_male2.csv) we wil proceed with the following **strategy**:\n",
    "\n",
    "1. The **target** of our dataset will be `Overall Score`, which is a summary of a player's performance and potential. \n",
    "2. Through **Exploratory Data Analysis** we will identify the features that contribute to this prediction.\n",
    "_____________"
   ]
  },
  {
   "cell_type": "markdown",
   "id": "97849139-be79-4928-b2d7-72a67ee62e5a",
   "metadata": {
    "tags": []
   },
   "source": [
    "<h3 style=\"color: #4169E1;\">1.2 | Copies</h3>"
   ]
  },
  {
   "cell_type": "code",
   "execution_count": 7,
   "id": "aa424f64-27f7-4567-8128-19aea73e1b4e",
   "metadata": {},
   "outputs": [],
   "source": [
    "df = data.copy()"
   ]
  },
  {
   "cell_type": "markdown",
   "id": "69f925fa",
   "metadata": {},
   "source": [
    "<h3 style=\"color: #4169E1;\">1.3 | Column standardization </h3>"
   ]
  },
  {
   "cell_type": "code",
   "execution_count": null,
   "id": "3b49ba3d",
   "metadata": {},
   "outputs": [],
   "source": [
    "data.columns = [column.lower().replace(\" \", \"_\") for column in data.columns]"
   ]
  },
  {
   "cell_type": "code",
   "execution_count": null,
   "id": "059f5914",
   "metadata": {},
   "outputs": [],
   "source": [
    "data.head(3)"
   ]
  },
  {
   "cell_type": "markdown",
   "id": "417a8a85-bc10-46e3-9494-fac45f62ad64",
   "metadata": {},
   "source": [
    "<h2 style=\"color: #9370DB;\"> 02 | Data Cleaning </h2>"
   ]
  },
  {
   "cell_type": "markdown",
   "id": "6b5a3260",
   "metadata": {},
   "source": [
    "<h3 style=\"color: #4169E1;\"> 2.1 | Dealing with Data types</h3>"
   ]
  },
  {
   "cell_type": "markdown",
   "id": "c3f6dbec",
   "metadata": {},
   "source": [
    "<h3 style=\"color: #4169E1;\"> 2.2 | Dealing with NaN values</h3>"
   ]
  },
  {
   "cell_type": "markdown",
   "id": "f290e15f",
   "metadata": {},
   "source": [
    "<h3 style=\"color: #4169E1;\"> 2.3 | Dealing with Duplicates</h3>"
   ]
  },
  {
   "cell_type": "markdown",
   "id": "30fde9f5",
   "metadata": {},
   "source": [
    "<h3 style=\"color: #4169E1;\"> 2.4 | Dealing with Empty Spaces</h3>"
   ]
  },
  {
   "cell_type": "markdown",
   "id": "c773cee0",
   "metadata": {},
   "source": [
    "<h3 style=\"color: #4169E1;\"> 2.5 | Dealing with outliers</h3>"
   ]
  },
  {
   "cell_type": "markdown",
   "id": "0d1e6d0b",
   "metadata": {},
   "source": [
    "<h3 style=\"color: #4169E1;\"> 2.6 | Moving target to the right </h3>"
   ]
  },
  {
   "cell_type": "code",
   "execution_count": null,
   "id": "fef389b4-e7fd-45da-8b27-6c2903a3ffe1",
   "metadata": {},
   "outputs": [],
   "source": [
    "data.head(0)"
   ]
  },
  {
   "cell_type": "markdown",
   "id": "58ec1312-cfbe-4a90-829c-d4ace665595b",
   "metadata": {
    "tags": []
   },
   "source": [
    "<h2 style=\"color: #008080;\">Feature Selection (Dropping unnecesary features)</h2>"
   ]
  },
  {
   "cell_type": "code",
   "execution_count": null,
   "id": "67469ab5-baa7-4ee9-840d-51a299669dab",
   "metadata": {},
   "outputs": [],
   "source": [
    "data.shape"
   ]
  },
  {
   "cell_type": "markdown",
   "id": "292c5cdf-12c2-4396-9081-0336c69fcd72",
   "metadata": {},
   "source": [
    "_____________\n",
    "From all features above, we will drop the following:\n",
    "* `know_as`, `full_name`, `image_link`, `national_team_image` it's just the player identifier.\n",
    "* `club_name`, `club_position`, `contract_until`, `club_jersey_number`, `joined_on`, `on_loan` these are specific to the player's current club situation and do not directly influence their potential or performance metrics.\n",
    "* `national_team_name`, `national_team_position`, `national_team_jersey_number` are unnecessary details.\n",
    "* `st_rating`, `lw_raating`, `cf_rating` are giving us to much detail of the player information, not needed if we are focusing on **overall score** and best position.\n",
    "* Also, since we are looking for **field players** we can drop some goalkeeper-specific features like `goalkeeper_diving`, `goalkeeper_handling`, `_goalkeeperkicking`, `goalkeeper_positioning` and `goalkeeper_reflexes`\n",
    "* Aggregated stats like `totalstats` and `basestats` are the sum of different stats. Same with `crossing`, `finishing`, etc., are the sum of `attacking`\n",
    "    * Attacking = crossing, finishing, heading_accuracy, short_passing, volleys\n",
    "    * Skill = dribbling, curve, fk_accuracy, long_passing, ball_control\n",
    "    * Movement = acceleration, sprint_speed, agility, reactions, balance\n",
    "    * Power = shot_power, jumping, stamina, strength, long_shots\n",
    "    * Mentality = aggression, interceptions, positioning, vision, penalties, composure\n",
    "    * Defending = marking, standing_tackle, sliding_tackle\n",
    "_____________"
   ]
  },
  {
   "cell_type": "code",
   "execution_count": 11,
   "id": "a5feb359-7207-4d30-9131-7e62cd6d8755",
   "metadata": {},
   "outputs": [],
   "source": [
    "df = df.drop(columns=['known_as', 'full_name', 'image_link', 'national_team_image_link',\n",
    "                      'club_name', 'club_position', 'contract_until', 'club_jersey_number',\n",
    "                      'joined_on', 'on_loan', 'national_team_name', 'national_team_position',\n",
    "                      'national_team_jersey_number', 'st_rating', 'lw_rating', 'cf_rating',\n",
    "                      'rf_rating', 'rw_rating', 'cam_rating', 'lm_rating', 'cm_rating',\n",
    "                      'rm_rating', 'lwb_rating', 'cdm_rating', 'rwb_rating', 'lb_rating',\n",
    "                      'cb_rating', 'rb_rating', 'gk_rating',\n",
    "                      'goalkeeper_diving', 'goalkeeper_handling', '_goalkeeperkicking',\n",
    "                      'goalkeeper_positioning', 'goalkeeper_reflexes', 'totalstats',\n",
    "                      'basestats', 'crossing', 'finishing', 'volleys', 'dribbling', \n",
    "                      'curve', 'freekick_accuracy', 'longpassing', 'ballcontrol', \n",
    "                      'acceleration', 'sprint_speed', 'agility', 'reactions', \n",
    "                      'balance', 'shot_power', 'jumping', 'stamina', 'strength', \n",
    "                      'long_shots', 'aggression', 'interceptions', 'positioning', \n",
    "                      'vision', 'penalties', 'composure', 'marking', 'standing_tackle', \n",
    "                      'sliding_tackle', 'positions_played'])"
   ]
  },
  {
   "cell_type": "code",
   "execution_count": null,
   "id": "f7e9da95-2fa9-41f0-a7b2-e0cd4fdfddf8",
   "metadata": {},
   "outputs": [],
   "source": [
    "df.shape"
   ]
  },
  {
   "cell_type": "markdown",
   "id": "4d6cfd32-5448-4962-882e-40f435a41842",
   "metadata": {
    "tags": []
   },
   "source": [
    "<h2 style=\"color: #008080;\">Checking Null Values</h2>"
   ]
  },
  {
   "cell_type": "code",
   "execution_count": null,
   "id": "43afe28b-abca-40c2-86ae-51873d2415c1",
   "metadata": {},
   "outputs": [],
   "source": [
    "df.isnull().sum()"
   ]
  },
  {
   "cell_type": "markdown",
   "id": "9106861d-272f-4cd2-a3e3-b5827f3d6193",
   "metadata": {
    "tags": []
   },
   "source": [
    "<h2 style=\"color: #008080;\">Checking Duplicates</h2>"
   ]
  },
  {
   "cell_type": "code",
   "execution_count": null,
   "id": "5b3f1b00-a124-4aea-a416-53afa3b127b6",
   "metadata": {},
   "outputs": [],
   "source": [
    "df.duplicated().sum()"
   ]
  },
  {
   "cell_type": "code",
   "execution_count": 15,
   "id": "d15f2580-e51d-4cd6-98a1-f3961d99af91",
   "metadata": {},
   "outputs": [],
   "source": [
    "df.drop_duplicates(inplace=True)"
   ]
  },
  {
   "cell_type": "markdown",
   "id": "5b99f8c1-08d3-423d-bef0-5e4d18d48808",
   "metadata": {
    "tags": []
   },
   "source": [
    "<h2 style=\"color: #008080;\">Checking Emtpy Spaces</h2>"
   ]
  },
  {
   "cell_type": "code",
   "execution_count": null,
   "id": "7177343e-c7de-4c42-b810-24a2a55ec3ab",
   "metadata": {},
   "outputs": [],
   "source": [
    "df.eq(\" \").sum()"
   ]
  },
  {
   "cell_type": "markdown",
   "id": "11ff597a-e5f3-4e3b-93d5-cbec9235951f",
   "metadata": {
    "tags": []
   },
   "source": [
    "<h2 style=\"color: #008080;\">Moving our target to the right</h2>"
   ]
  },
  {
   "cell_type": "code",
   "execution_count": null,
   "id": "e4830b64-b221-4ac9-9ea9-9f00718edcd9",
   "metadata": {},
   "outputs": [],
   "source": [
    "df.columns"
   ]
  },
  {
   "cell_type": "code",
   "execution_count": null,
   "id": "c410e584-ff3c-4977-91cd-dc3fdb109b7a",
   "metadata": {},
   "outputs": [],
   "source": [
    "df.head(3)"
   ]
  },
  {
   "cell_type": "code",
   "execution_count": 19,
   "id": "a8275156-b56b-4fc9-b4c6-a7fa70665c61",
   "metadata": {},
   "outputs": [],
   "source": [
    "target = df.pop('overall')"
   ]
  },
  {
   "cell_type": "code",
   "execution_count": 22,
   "id": "5214f6a3-63c3-4ba9-bae1-31540c4d7b80",
   "metadata": {},
   "outputs": [],
   "source": [
    "df['overall'] = target"
   ]
  },
  {
   "cell_type": "markdown",
   "id": "179188d3",
   "metadata": {},
   "source": [
    "<div class=\"alert alert-block alert-info\">\n",
    "Tip # 2\n",
    "How to move your target to the right\n",
    "</div>\n",
    "\n",
    "[stackoverflow](https://stackoverflow.com/questions/35321812/move-column-in-pandas-dataframe)"
   ]
  },
  {
   "cell_type": "markdown",
   "id": "2a716449-cd20-454c-8e21-805617121efc",
   "metadata": {},
   "source": [
    "<h2 style=\"color: #9370DB;\"> 03 | EDA (Exploratory Data Analysis) </h2>"
   ]
  },
  {
   "cell_type": "markdown",
   "id": "905d5af2",
   "metadata": {
    "tags": []
   },
   "source": [
    "<h3 style=\"color: #4169E1;\">3.1 | Descriptive Statistics </h3>"
   ]
  },
  {
   "cell_type": "code",
   "execution_count": null,
   "id": "05b02d7b-6ad8-4aa8-9aa9-b0c826d2a0d1",
   "metadata": {},
   "outputs": [],
   "source": [
    "df.describe().T"
   ]
  },
  {
   "cell_type": "markdown",
   "id": "06098f99-8b0b-4614-bc3f-2df776754a05",
   "metadata": {},
   "source": [
    "<div class=\"alert alert-block alert-info\">\n",
    "Tip # 3\n",
    "\n",
    "How to interpret basic statistics</div>"
   ]
  },
  {
   "cell_type": "markdown",
   "id": "7df2ba58-ba37-48ec-88ac-84cea1dcd77e",
   "metadata": {},
   "source": [
    "+ Measures of central tendency - Mean, median, mode\n",
    "+ Measures of spread / dispersion - SD, var, range, quartiles, percentiles\n",
    "+ Meaures of frequency - Frequency"
   ]
  },
  {
   "cell_type": "markdown",
   "id": "8be3f28e",
   "metadata": {},
   "source": [
    "+ **Range:** defines the difference between the highest and lowest values.\n",
    "+ **Variance**: measures how far each number in the set is from the mean and thus from every other number in the set.\n",
    "+ **Standard deviation:** The standard deviation is a statistic that measures the dispersion of a dataset relative to its mean and is calculated as the square root of the variance\n",
    "+ **Quartiles:** A quartile is a statistical term that describes a division of observations into four defined intervals based on the values of the data and how they compare to the entire set of observations.\n",
    "+ **Percentiles:** same but divided in 100 groups."
   ]
  },
  {
   "cell_type": "markdown",
   "id": "d2d9b6e9",
   "metadata": {},
   "source": [
    "![quartiles](https://www.onlinemathlearning.com/image-files/median-quartiles.png)"
   ]
  },
  {
   "cell_type": "markdown",
   "id": "da72f59f-e908-4ce3-affb-fe3983860011",
   "metadata": {},
   "source": [
    "### Exercise 1: What is the [Inter Quartile Range (IQR)](https://medium.com/@vinitasilaparasetty/quartiles-for-beginners-in-data-science-2ca5a640b07b)? What conclusions can we draw from `describe`?"
   ]
  },
  {
   "cell_type": "code",
   "execution_count": null,
   "id": "999b231a-77c9-49a2-bd08-7bb7d046dff6",
   "metadata": {},
   "outputs": [],
   "source": [
    "# your solution"
   ]
  },
  {
   "cell_type": "markdown",
   "id": "a594365f-2341-4111-a874-0909c3cdaa6d",
   "metadata": {
    "tags": []
   },
   "source": [
    "<h3 style=\"color: #4169E1;\"> Optional | Selecting Numerical </h3>"
   ]
  },
  {
   "cell_type": "code",
   "execution_count": 27,
   "id": "539d44c5-ae8f-4688-842c-e445e3f36598",
   "metadata": {},
   "outputs": [],
   "source": [
    "num = df.select_dtypes(\"number\")"
   ]
  },
  {
   "cell_type": "markdown",
   "id": "bdd253b9-9f65-41cf-ba40-315c7996f19e",
   "metadata": {
    "tags": []
   },
   "source": [
    "<h3 style=\"color: #4169E1;\"> 3.2 | Checking Distributions</h3>"
   ]
  },
  {
   "cell_type": "markdown",
   "id": "c7aa7c19-df9b-4bed-97b0-144934c8244c",
   "metadata": {},
   "source": [
    "#### Using maptplotlib ---> Check [documentation](https://matplotlib.org/) !"
   ]
  },
  {
   "cell_type": "code",
   "execution_count": null,
   "id": "705e39c9-8c6f-480d-aacf-b110054ba839",
   "metadata": {},
   "outputs": [],
   "source": [
    "color = '#0072B2'\n",
    "\n",
    "# grid size\n",
    "nrows, ncols = 5, 4  # adjust for your number of features\n",
    "\n",
    "fig, axes = plt.subplots(nrows=nrows, ncols=ncols, figsize=(20, 16))\n",
    "\n",
    "axes = axes.flatten()\n",
    "\n",
    "# Plot each numerical feature\n",
    "for i, ax in enumerate(axes):\n",
    "    if i >= len(num.columns):\n",
    "        ax.set_visible(False)  # hide unesed plots\n",
    "        continue\n",
    "    ax.hist(num.iloc[:, i], bins=30, color=color, edgecolor='black')\n",
    "    ax.set_title(num.columns[i])\n",
    "\n",
    "plt.tight_layout()\n",
    "plt.show()"
   ]
  },
  {
   "cell_type": "markdown",
   "id": "5a5f1c6b",
   "metadata": {
    "tags": []
   },
   "source": [
    "### Exercise 2: How do we interpret these histograms?"
   ]
  },
  {
   "cell_type": "code",
   "execution_count": null,
   "id": "dc263845-d84d-4b77-9e7a-255aab20aa71",
   "metadata": {},
   "outputs": [],
   "source": [
    "# your solution"
   ]
  },
  {
   "cell_type": "code",
   "execution_count": 29,
   "id": "3602f8a4-4264-4c9b-b800-9467c7b1ee4e",
   "metadata": {},
   "outputs": [],
   "source": [
    "boxplot = num[['value(in_euro)', 'wage(in_euro)', 'release_clause', 'dribbling_total', 'short_passing', 'lf_rating']]"
   ]
  },
  {
   "cell_type": "code",
   "execution_count": null,
   "id": "20524392-ad81-4084-b068-203947ef7542",
   "metadata": {},
   "outputs": [],
   "source": [
    "color = '#0072B2'\n",
    "\n",
    "# grid size\n",
    "nrows, ncols = 5, 4 \n",
    "\n",
    "fig, axes = plt.subplots(nrows=nrows, ncols=ncols, figsize=(20, 16))\n",
    "\n",
    "axes = axes.flatten()\n",
    "\n",
    "for i, ax in enumerate(axes):\n",
    "    if i >= len(num.columns):\n",
    "        ax.set_visible(False)\n",
    "        continue\n",
    "    ax.boxplot(num.iloc[:, i].dropna(), vert=False, patch_artist=True, \n",
    "               boxprops=dict(facecolor=color, color='black'), \n",
    "               medianprops=dict(color='yellow'), whiskerprops=dict(color='black'), \n",
    "               capprops=dict(color='black'), flierprops=dict(marker='o', color='red', markersize=5))\n",
    "    ax.set_title(num.columns[i], fontsize=10)\n",
    "    ax.tick_params(axis='x', labelsize=8)\n",
    "\n",
    "plt.tight_layout()\n",
    "plt.show()"
   ]
  },
  {
   "cell_type": "code",
   "execution_count": null,
   "id": "4f4d368e-fac2-411d-a3d2-56dd684cc246",
   "metadata": {},
   "outputs": [],
   "source": [
    "color = '#0072B2'\n",
    "\n",
    "# grid size\n",
    "nrows, ncols = 5, 4 \n",
    "\n",
    "fig, axes = plt.subplots(nrows=nrows, ncols=ncols, figsize=(20, 16))\n",
    "\n",
    "axes = axes.flatten()\n",
    "\n",
    "for i, ax in enumerate(axes):\n",
    "    if i >= len(boxplot.columns):\n",
    "        ax.set_visible(False)\n",
    "        continue\n",
    "    ax.boxplot(boxplot.iloc[:, i].dropna(), vert=False, patch_artist=True, \n",
    "               boxprops=dict(facecolor=color, color='black'), \n",
    "               medianprops=dict(color='yellow'), whiskerprops=dict(color='black'), \n",
    "               capprops=dict(color='black'), flierprops=dict(marker='o', color='red', markersize=5))\n",
    "    ax.set_title(boxplot.columns[i], fontsize=10)\n",
    "    ax.tick_params(axis='x', labelsize=8)  # Adjust x-axis ticks\n",
    "\n",
    "plt.tight_layout()\n",
    "plt.show()"
   ]
  },
  {
   "cell_type": "markdown",
   "id": "0727d60c-3a8a-4313-84eb-07174567b43f",
   "metadata": {},
   "source": [
    "### Exercise 3: What conclusions can you draw from the box plots?"
   ]
  },
  {
   "cell_type": "code",
   "execution_count": null,
   "id": "8c48e66e-2699-41ff-ac59-3b40b8e605bd",
   "metadata": {},
   "outputs": [],
   "source": []
  },
  {
   "cell_type": "markdown",
   "id": "ca6f98bf",
   "metadata": {},
   "source": [
    "<h3 style=\"color: #4169E1;\"> 3.3 | Checking our target distribution</h3>"
   ]
  },
  {
   "cell_type": "markdown",
   "id": "81501e97",
   "metadata": {},
   "source": [
    "<h3 style=\"color: #4169E1;\">3.4 | Checking Outliers </h3>"
   ]
  },
  {
   "cell_type": "markdown",
   "id": "13f017d3",
   "metadata": {},
   "source": [
    "<h3 style=\"color: #4169E1;\">3.5 | Looking for Correlations </h3>"
   ]
  },
  {
   "cell_type": "code",
   "execution_count": 32,
   "id": "97e22b75-778a-4a36-b294-13cefba2f9fa",
   "metadata": {},
   "outputs": [],
   "source": [
    "num_corr = round(num.corr(), 2)"
   ]
  },
  {
   "cell_type": "markdown",
   "id": "3fe4d7e0",
   "metadata": {},
   "source": [
    "<div class=\"alert alert-block alert-info\">\n",
    "Tip # 4\n",
    "    \n",
    "- We don't want multicolinearity --> correlation between features biases the model...\n",
    "- We want high correlations (+ or -) with the target --> valuable information for the predictions</div>"
   ]
  },
  {
   "cell_type": "markdown",
   "id": "50dcc803-80d3-4522-95cc-1221f14530e0",
   "metadata": {},
   "source": [
    "#### Checking correlations with [Seaborn](https://seaborn.pydata.org/index.html)"
   ]
  },
  {
   "cell_type": "code",
   "execution_count": null,
   "id": "0977b3b7-f506-4715-bf48-45671d8554f0",
   "metadata": {},
   "outputs": [],
   "source": [
    "# Correlation Matrix-Heatmap Plot\n",
    "mask = np.zeros_like(num_corr)\n",
    "mask[np.triu_indices_from(mask)] = True # optional, to hide repeat half of the matrix\n",
    "f, ax = plt.subplots(figsize=(25, 15))\n",
    "sns.set(font_scale=1.5) # increase font size\n",
    "ax = sns.heatmap(num_corr, mask=mask, annot=True, annot_kws={\"size\": 12}, linewidths=.5, cmap=\"coolwarm\", fmt=\".2f\", ax=ax) # round to 2 decimal places\n",
    "ax.set_title(\"Dealing with Multicollinearity\", fontsize=20) # add title\n",
    "plt.show()"
   ]
  },
  {
   "cell_type": "code",
   "execution_count": null,
   "id": "8ce5debe-086d-41b3-b788-86241e05fc83",
   "metadata": {},
   "outputs": [],
   "source": [
    "df.columns"
   ]
  },
  {
   "cell_type": "markdown",
   "id": "91125ba0-2993-4bcc-b17c-9e5ca8df6e40",
   "metadata": {},
   "source": [
    "### Exercise 4: How to interpret this correlation matrix? Which other correlation methods we know?"
   ]
  },
  {
   "cell_type": "code",
   "execution_count": null,
   "id": "74f56392-e0dc-4884-a90a-7751326f709b",
   "metadata": {},
   "outputs": [],
   "source": [
    "# your solution"
   ]
  },
  {
   "cell_type": "markdown",
   "id": "aace9a79-e18d-47a2-a53c-1e1fa15d6a6b",
   "metadata": {},
   "source": [
    "### Specific Correlations with the Target"
   ]
  },
  {
   "cell_type": "code",
   "execution_count": null,
   "id": "81c085ea",
   "metadata": {},
   "outputs": [],
   "source": []
  },
  {
   "cell_type": "markdown",
   "id": "f2592683-b7c3-40e0-9767-69f60dc8e323",
   "metadata": {},
   "source": [
    "### Perform 3 Plots and Explain the Findings from the Data"
   ]
  },
  {
   "cell_type": "code",
   "execution_count": null,
   "id": "989c0e96-82ad-4a02-b51c-3f781f53829f",
   "metadata": {},
   "outputs": [],
   "source": []
  },
  {
   "cell_type": "markdown",
   "id": "eac88319",
   "metadata": {},
   "source": [
    "### Contigency Tables, Chi-Square..."
   ]
  },
  {
   "cell_type": "code",
   "execution_count": null,
   "id": "bf33eaba",
   "metadata": {},
   "outputs": [],
   "source": []
  },
  {
   "cell_type": "markdown",
   "id": "2500ae58-541b-4aed-bb65-0ae83e83744b",
   "metadata": {},
   "source": [
    "<h2 style=\"color: #9370DB;\"> 04 | Data Processing </h2>"
   ]
  },
  {
   "cell_type": "markdown",
   "id": "962091ba-0828-4428-8ed2-7735f4164e78",
   "metadata": {},
   "source": [
    "<h3 style=\"color: #4169E1;\"> 4.1 | X-Y Split</h3>"
   ]
  },
  {
   "cell_type": "markdown",
   "id": "bf53c008-e656-41e3-9c59-63f985b32bae",
   "metadata": {
    "tags": []
   },
   "source": [
    "<h3 style=\"color: #4169E1;\"> 4.2 | Selecting the Model</h3>"
   ]
  },
  {
   "cell_type": "markdown",
   "id": "4a7a6fda",
   "metadata": {},
   "source": [
    "<h4 style=\"color: #00BFFF;\"> 4.2.1 | Selecting Model: Linear Regression </h4>"
   ]
  },
  {
   "cell_type": "markdown",
   "id": "40fc20ca",
   "metadata": {},
   "source": [
    "<h4 style=\"color: #00BFFF;\"> 4.2.2 | Selecting Model: Ridge Regression </h4>"
   ]
  },
  {
   "cell_type": "markdown",
   "id": "9d1095c1",
   "metadata": {},
   "source": [
    "<h4 style=\"color: #00BFFF;\"> 4.2.3 | Selecting Model: Lasso Regression </h4>"
   ]
  },
  {
   "cell_type": "markdown",
   "id": "046fbe29",
   "metadata": {},
   "source": [
    "<h4 style=\"color: #00BFFF;\"> 4.2.4 | Selecting Model: Decision Tree Regression </h4>"
   ]
  },
  {
   "cell_type": "markdown",
   "id": "92e9a3e1",
   "metadata": {},
   "source": [
    "<h4 style=\"color: #00BFFF;\"> 4.2.5 | Selecting Model: KNN Regression </h4>"
   ]
  },
  {
   "cell_type": "markdown",
   "id": "a344fe84",
   "metadata": {},
   "source": [
    "<h4 style=\"color: #00BFFF;\"> 4.2.6 | Selecting Model: XGBoost Regression </h4>"
   ]
  },
  {
   "cell_type": "markdown",
   "id": "6b74675d",
   "metadata": {},
   "source": [
    "<h3 style=\"color: #4169E1;\"> 4.3 | Final Comparision</h3>"
   ]
  },
  {
   "cell_type": "markdown",
   "id": "c9135f41-5016-482d-8e0c-c49023c9ae50",
   "metadata": {
    "tags": []
   },
   "source": [
    "<h2 style=\"color: #9370DB;\"> 05 | Improving Model </h2>"
   ]
  },
  {
   "cell_type": "markdown",
   "id": "7f81348e-f517-477c-badf-7d4e38cbb5e2",
   "metadata": {},
   "source": [
    "<h2 style=\"color: #008080;\">Train-Test Split</h2>"
   ]
  },
  {
   "cell_type": "markdown",
   "id": "e5afc04f-ffed-4e93-b4e8-d43562717ace",
   "metadata": {},
   "source": [
    "<h2 style=\"color: #008080;\">Model Validation</h2>"
   ]
  },
  {
   "cell_type": "markdown",
   "id": "76ca3f20-b395-4e33-b267-5421a00c7712",
   "metadata": {
    "tags": []
   },
   "source": [
    "<h1 style=\"color: #00BFFF;\">06 | Improving the Model</h1>"
   ]
  },
  {
   "cell_type": "markdown",
   "id": "1a9a1325-cbf7-414d-b39e-41824d11e7f5",
   "metadata": {},
   "source": [
    "<h1 style=\"color: #00BFFF;\">07 | Reporting</h1>"
   ]
  }
 ],
 "metadata": {
  "kernelspec": {
   "display_name": "base",
   "language": "python",
   "name": "python3"
  },
  "language_info": {
   "codemirror_mode": {
    "name": "ipython",
    "version": 3
   },
   "file_extension": ".py",
   "mimetype": "text/x-python",
   "name": "python",
   "nbconvert_exporter": "python",
   "pygments_lexer": "ipython3",
   "version": "3.12.4"
  }
 },
 "nbformat": 4,
 "nbformat_minor": 5
}
